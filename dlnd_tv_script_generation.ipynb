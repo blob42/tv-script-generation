{
 "cells": [
  {
   "cell_type": "markdown",
   "metadata": {
    "deletable": true,
    "editable": true
   },
   "source": [
    "# TV Script Generation\n",
    "In this project, you'll generate your own [Simpsons](https://en.wikipedia.org/wiki/The_Simpsons) TV scripts using RNNs.  You'll be using part of the [Simpsons dataset](https://www.kaggle.com/wcukierski/the-simpsons-by-the-data) of scripts from 27 seasons.  The Neural Network you'll build will generate a new TV script for a scene at [Moe's Tavern](https://simpsonswiki.com/wiki/Moe's_Tavern).\n",
    "## Get the Data\n",
    "The data is already provided for you.  You'll be using a subset of the original dataset.  It consists of only the scenes in Moe's Tavern.  This doesn't include other versions of the tavern, like \"Moe's Cavern\", \"Flaming Moe's\", \"Uncle Moe's Family Feed-Bag\", etc.."
   ]
  },
  {
   "cell_type": "code",
   "execution_count": 64,
   "metadata": {
    "collapsed": false,
    "deletable": true,
    "editable": true
   },
   "outputs": [],
   "source": [
    "\"\"\"\n",
    "DON'T MODIFY ANYTHING IN THIS CELL\n",
    "\"\"\"\n",
    "import helper\n",
    "\n",
    "data_dir = './data/simpsons/moes_tavern_lines.txt'\n",
    "text = helper.load_data(data_dir)\n",
    "# Ignore notice, since we don't use it for analysing the data\n",
    "text = text[81:]"
   ]
  },
  {
   "cell_type": "markdown",
   "metadata": {
    "deletable": true,
    "editable": true
   },
   "source": [
    "## Explore the Data\n",
    "Play around with `view_sentence_range` to view different parts of the data."
   ]
  },
  {
   "cell_type": "code",
   "execution_count": 14,
   "metadata": {
    "collapsed": false,
    "deletable": true,
    "editable": true
   },
   "outputs": [
    {
     "name": "stdout",
     "output_type": "stream",
     "text": [
      "Dataset Stats\n",
      "Roughly the number of unique words: 11492\n",
      "Number of scenes: 262\n",
      "Average number of sentences in each scene: 15.248091603053435\n",
      "Number of lines: 4257\n",
      "Average number of words in each line: 11.50434578341555\n",
      "\n",
      "The sentences 0 to 10:\n",
      "Moe_Szyslak: (INTO PHONE) Moe's Tavern. Where the elite meet to drink.\n",
      "Bart_Simpson: Eh, yeah, hello, is Mike there? Last name, Rotch.\n",
      "Moe_Szyslak: (INTO PHONE) Hold on, I'll check. (TO BARFLIES) Mike Rotch. Mike Rotch. Hey, has anybody seen Mike Rotch, lately?\n",
      "Moe_Szyslak: (INTO PHONE) Listen you little puke. One of these days I'm gonna catch you, and I'm gonna carve my name on your back with an ice pick.\n",
      "Moe_Szyslak: What's the matter Homer? You're not your normal effervescent self.\n",
      "Homer_Simpson: I got my problems, Moe. Give me another one.\n",
      "Moe_Szyslak: Homer, hey, you should not drink to forget your problems.\n",
      "Barney_Gumble: Yeah, you should only drink to enhance your social skills.\n",
      "\n",
      "\n"
     ]
    }
   ],
   "source": [
    "view_sentence_range = (0, 10)\n",
    "\n",
    "\"\"\"\n",
    "DON'T MODIFY ANYTHING IN THIS CELL\n",
    "\"\"\"\n",
    "import numpy as np\n",
    "\n",
    "print('Dataset Stats')\n",
    "print('Roughly the number of unique words: {}'.format(len({word: None for word in text.split()})))\n",
    "scenes = text.split('\\n\\n')\n",
    "print('Number of scenes: {}'.format(len(scenes)))\n",
    "sentence_count_scene = [scene.count('\\n') for scene in scenes]\n",
    "print('Average number of sentences in each scene: {}'.format(np.average(sentence_count_scene)))\n",
    "\n",
    "sentences = [sentence for scene in scenes for sentence in scene.split('\\n')]\n",
    "print('Number of lines: {}'.format(len(sentences)))\n",
    "word_count_sentence = [len(sentence.split()) for sentence in sentences]\n",
    "print('Average number of words in each line: {}'.format(np.average(word_count_sentence)))\n",
    "\n",
    "print()\n",
    "print('The sentences {} to {}:'.format(*view_sentence_range))\n",
    "print('\\n'.join(text.split('\\n')[view_sentence_range[0]:view_sentence_range[1]]))"
   ]
  },
  {
   "cell_type": "markdown",
   "metadata": {
    "deletable": true,
    "editable": true
   },
   "source": [
    "## Implement Preprocessing Functions\n",
    "The first thing to do to any dataset is preprocessing.  Implement the following preprocessing functions below:\n",
    "- Lookup Table\n",
    "- Tokenize Punctuation\n",
    "\n",
    "### Lookup Table\n",
    "To create a word embedding, you first need to transform the words to ids.  In this function, create two dictionaries:\n",
    "- Dictionary to go from the words to an id, we'll call `vocab_to_int`\n",
    "- Dictionary to go from the id to word, we'll call `int_to_vocab`\n",
    "\n",
    "Return these dictionaries in the following tuple `(vocab_to_int, int_to_vocab)`"
   ]
  },
  {
   "cell_type": "code",
   "execution_count": 65,
   "metadata": {
    "collapsed": false,
    "deletable": true,
    "editable": true
   },
   "outputs": [
    {
     "name": "stdout",
     "output_type": "stream",
     "text": [
      "Tests Passed\n"
     ]
    }
   ],
   "source": [
    "import numpy as np\n",
    "import problem_unittests as tests\n",
    "\n",
    "def create_lookup_tables(text):\n",
    "    \"\"\"\n",
    "    Create lookup tables for vocabulary\n",
    "    :param text: The text of tv scripts split into words\n",
    "    :return: A tuple of dicts (vocab_to_int, int_to_vocab)\n",
    "    \"\"\"\n",
    "    vocab = set(text)\n",
    "    \n",
    "    vocab_to_int = {word: index for index, word in enumerate(vocab)}\n",
    "    int_to_vocab = {index: word for (word, index) in vocab_to_int.items()}\n",
    "    \n",
    "    return vocab_to_int, int_to_vocab\n",
    "\n",
    "\n",
    "\"\"\"\n",
    "DON'T MODIFY ANYTHING IN THIS CELL THAT IS BELOW THIS LINE\n",
    "\"\"\"\n",
    "tests.test_create_lookup_tables(create_lookup_tables)"
   ]
  },
  {
   "cell_type": "markdown",
   "metadata": {
    "deletable": true,
    "editable": true
   },
   "source": [
    "### Tokenize Punctuation\n",
    "We'll be splitting the script into a word array using spaces as delimiters.  However, punctuations like periods and exclamation marks make it hard for the neural network to distinguish between the word \"bye\" and \"bye!\".\n",
    "\n",
    "Implement the function `token_lookup` to return a dict that will be used to tokenize symbols like \"!\" into \"||Exclamation_Mark||\".  Create a dictionary for the following symbols where the symbol is the key and value is the token:\n",
    "- Period ( . )\n",
    "- Comma ( , )\n",
    "- Quotation Mark ( \" )\n",
    "- Semicolon ( ; )\n",
    "- Exclamation mark ( ! )\n",
    "- Question mark ( ? )\n",
    "- Left Parentheses ( ( )\n",
    "- Right Parentheses ( ) )\n",
    "- Dash ( -- )\n",
    "- Return ( \\n )\n",
    "\n",
    "This dictionary will be used to token the symbols and add the delimiter (space) around it.  This separates the symbols as it's own word, making it easier for the neural network to predict on the next word. Make sure you don't use a token that could be confused as a word. Instead of using the token \"dash\", try using something like \"||dash||\"."
   ]
  },
  {
   "cell_type": "code",
   "execution_count": 16,
   "metadata": {
    "collapsed": false,
    "deletable": true,
    "editable": true
   },
   "outputs": [
    {
     "name": "stdout",
     "output_type": "stream",
     "text": [
      "Tests Passed\n"
     ]
    }
   ],
   "source": [
    "def token_lookup():\n",
    "    \"\"\"\n",
    "    Generate a dict to turn punctuation into a token.\n",
    "    :return: Tokenize dictionary where the key is the punctuation and the value is the token\n",
    "    \"\"\"\n",
    "    \n",
    "    return {\n",
    "        '.': '||period||',\n",
    "        ',': '||comma||',\n",
    "        '\"': '||quotation_mark||',\n",
    "        ';': '||semicolon||',\n",
    "        '!': '||exclamation_mark||',\n",
    "        '?': '||question_mark||',\n",
    "        '(': '||left_parentheses',\n",
    "        ')': '||right_parentheses',\n",
    "        '--': '||dash||',\n",
    "        '\\n': '||return||'\n",
    "    }\n",
    "\n",
    "\"\"\"\n",
    "DON'T MODIFY ANYTHING IN THIS CELL THAT IS BELOW THIS LINE\n",
    "\"\"\"\n",
    "tests.test_tokenize(token_lookup)"
   ]
  },
  {
   "cell_type": "markdown",
   "metadata": {
    "deletable": true,
    "editable": true
   },
   "source": [
    "## Preprocess all the data and save it\n",
    "Running the code cell below will preprocess all the data and save it to file."
   ]
  },
  {
   "cell_type": "code",
   "execution_count": 17,
   "metadata": {
    "collapsed": false,
    "deletable": true,
    "editable": true
   },
   "outputs": [],
   "source": [
    "\"\"\"\n",
    "DON'T MODIFY ANYTHING IN THIS CELL\n",
    "\"\"\"\n",
    "# Preprocess Training, Validation, and Testing Data\n",
    "helper.preprocess_and_save_data(data_dir, token_lookup, create_lookup_tables)"
   ]
  },
  {
   "cell_type": "markdown",
   "metadata": {
    "deletable": true,
    "editable": true
   },
   "source": [
    "# Check Point\n",
    "This is your first checkpoint. If you ever decide to come back to this notebook or have to restart the notebook, you can start from here. The preprocessed data has been saved to disk."
   ]
  },
  {
   "cell_type": "code",
   "execution_count": 1,
   "metadata": {
    "collapsed": false,
    "deletable": true,
    "editable": true
   },
   "outputs": [],
   "source": [
    "\"\"\"\n",
    "DON'T MODIFY ANYTHING IN THIS CELL\n",
    "\"\"\"\n",
    "import helper\n",
    "import numpy as np\n",
    "import problem_unittests as tests\n",
    "\n",
    "int_text, vocab_to_int, int_to_vocab, token_dict = helper.load_preprocess()"
   ]
  },
  {
   "cell_type": "markdown",
   "metadata": {
    "deletable": true,
    "editable": true
   },
   "source": [
    "###  Extra hyper parameters"
   ]
  },
  {
   "cell_type": "code",
   "execution_count": 177,
   "metadata": {
    "collapsed": false,
    "deletable": true,
    "editable": true
   },
   "outputs": [],
   "source": [
    "from collections import namedtuple\n",
    "\n",
    "hyper_params = (('embedding_size', 128),\n",
    "                ('lstm_layers', 2),\n",
    "                ('keep_prob', 0.7)\n",
    "               )\n",
    "\n",
    "\n",
    "\n",
    "\n",
    "Hyper = namedtuple('Hyper', map(lambda x: x[0], hyper_params))\n",
    "HYPER = Hyper(*list(map(lambda x: x[1], hyper_params)))\n",
    "\n"
   ]
  },
  {
   "cell_type": "markdown",
   "metadata": {
    "deletable": true,
    "editable": true
   },
   "source": [
    "## Build the Neural Network\n",
    "You'll build the components necessary to build a RNN by implementing the following functions below:\n",
    "- get_inputs\n",
    "- get_init_cell\n",
    "- get_embed\n",
    "- build_rnn\n",
    "- build_nn\n",
    "- get_batches\n",
    "\n",
    "### Check the Version of TensorFlow and Access to GPU"
   ]
  },
  {
   "cell_type": "code",
   "execution_count": 3,
   "metadata": {
    "collapsed": false,
    "deletable": true,
    "editable": true
   },
   "outputs": [
    {
     "name": "stdout",
     "output_type": "stream",
     "text": [
      "TensorFlow Version: 1.0.0\n",
      "Default GPU Device: /gpu:0\n"
     ]
    }
   ],
   "source": [
    "\"\"\"\n",
    "DON'T MODIFY ANYTHING IN THIS CELL\n",
    "\"\"\"\n",
    "from distutils.version import LooseVersion\n",
    "import warnings\n",
    "import tensorflow as tf\n",
    "\n",
    "# Check TensorFlow Version\n",
    "assert LooseVersion(tf.__version__) >= LooseVersion('1.0'), 'Please use TensorFlow version 1.0 or newer'\n",
    "print('TensorFlow Version: {}'.format(tf.__version__))\n",
    "\n",
    "# Check for a GPU\n",
    "if not tf.test.gpu_device_name():\n",
    "    warnings.warn('No GPU found. Please use a GPU to train your neural network.')\n",
    "else:\n",
    "    print('Default GPU Device: {}'.format(tf.test.gpu_device_name()))"
   ]
  },
  {
   "cell_type": "markdown",
   "metadata": {
    "deletable": true,
    "editable": true
   },
   "source": [
    "### Input\n",
    "Implement the `get_inputs()` function to create TF Placeholders for the Neural Network.  It should create the following placeholders:\n",
    "- Input text placeholder named \"input\" using the [TF Placeholder](https://www.tensorflow.org/api_docs/python/tf/placeholder) `name` parameter.\n",
    "- Targets placeholder\n",
    "- Learning Rate placeholder\n",
    "\n",
    "Return the placeholders in the following the tuple `(Input, Targets, LearingRate)`"
   ]
  },
  {
   "cell_type": "code",
   "execution_count": 225,
   "metadata": {
    "collapsed": false,
    "deletable": true,
    "editable": true
   },
   "outputs": [
    {
     "name": "stdout",
     "output_type": "stream",
     "text": [
      "Tests Passed\n"
     ]
    }
   ],
   "source": [
    "def get_inputs():\n",
    "    \"\"\"\n",
    "    Create TF Placeholders for input, targets, and learning rate.\n",
    "    :return: Tuple (input, targets, learning rate)\n",
    "    \"\"\"\n",
    "    \n",
    "    # We use shape [None, None] to feed any batch size and any sequence length\n",
    "    input_placeholder = tf.placeholder(tf.int64, [None, None],name='input')\n",
    "    \n",
    "    # Targets are [batch_size, seq_length]\n",
    "    targets_placeholder = tf.placeholder(tf.int64, [None, None], name='targets') \n",
    "    \n",
    "    \n",
    "    learning_rate_placeholder = tf.placeholder(tf.float32, name='learning_rate')\n",
    "    return input_placeholder, targets_placeholder, learning_rate_placeholder\n",
    "\n",
    "\n",
    "\"\"\"\n",
    "DON'T MODIFY ANYTHING IN THIS CELL THAT IS BELOW THIS LINE\n",
    "\"\"\"\n",
    "tests.test_get_inputs(get_inputs)"
   ]
  },
  {
   "cell_type": "markdown",
   "metadata": {
    "deletable": true,
    "editable": true
   },
   "source": [
    "### Build RNN Cell and Initialize\n",
    "Stack one or more [`BasicLSTMCells`](https://www.tensorflow.org/api_docs/python/tf/contrib/rnn/BasicLSTMCell) in a [`MultiRNNCell`](https://www.tensorflow.org/api_docs/python/tf/contrib/rnn/MultiRNNCell).\n",
    "- The Rnn size should be set using `rnn_size`\n",
    "- Initalize Cell State using the MultiRNNCell's [`zero_state()`](https://www.tensorflow.org/api_docs/python/tf/contrib/rnn/MultiRNNCell#zero_state) function\n",
    "    - Apply the name \"initial_state\" to the initial state using [`tf.identity()`](https://www.tensorflow.org/api_docs/python/tf/identity)\n",
    "\n",
    "Return the cell and initial state in the following tuple `(Cell, InitialState)`"
   ]
  },
  {
   "cell_type": "code",
   "execution_count": 227,
   "metadata": {
    "collapsed": false,
    "deletable": true,
    "editable": true
   },
   "outputs": [
    {
     "name": "stdout",
     "output_type": "stream",
     "text": [
      "Tests Passed\n"
     ]
    }
   ],
   "source": [
    "def get_init_cell(batch_size, rnn_size):\n",
    "    \"\"\"\n",
    "    Create an RNN Cell and initialize it.\n",
    "    :param batch_size: Size of batches\n",
    "    :param rnn_size: Size of RNNs\n",
    "    :return: Tuple (cell, initialize state)\n",
    "    \"\"\"\n",
    "    with tf.name_scope('RNN_layers'):\n",
    "        lstm = tf.contrib.rnn.BasicLSTMCell(rnn_size)\n",
    "\n",
    "        # add a dropout wrapper\n",
    "        drop = tf.contrib.rnn.DropoutWrapper(lstm, output_keep_prob=HYPER.keep_prob)\n",
    "\n",
    "        #cell = tf.contrib.rnn.MultiRNNCell([drop] * HYPER.lstm_layers)\n",
    "\n",
    "        cell = tf.contrib.rnn.MultiRNNCell([lstm] * HYPER.lstm_layers)\n",
    "    \n",
    "   \n",
    "    _initial_state = cell.zero_state(batch_size, tf.float32)\n",
    "    initial_state = tf.identity(_initial_state, name='initial_state')\n",
    "    \n",
    "    return cell, initial_state\n",
    "\n",
    "\n",
    "\"\"\"\n",
    "DON'T MODIFY ANYTHING IN THIS CELL THAT IS BELOW THIS LINE\n",
    "\"\"\"\n",
    "tests.test_get_init_cell(get_init_cell)"
   ]
  },
  {
   "cell_type": "markdown",
   "metadata": {
    "deletable": true,
    "editable": true
   },
   "source": [
    "### Word Embedding\n",
    "Apply embedding to `input_data` using TensorFlow.  Return the embedded sequence."
   ]
  },
  {
   "cell_type": "code",
   "execution_count": 207,
   "metadata": {
    "collapsed": false,
    "deletable": true,
    "editable": true
   },
   "outputs": [
    {
     "name": "stdout",
     "output_type": "stream",
     "text": [
      "Tests Passed\n"
     ]
    }
   ],
   "source": [
    "def get_embed(input_data, vocab_size, embed_dim):\n",
    "    \"\"\"\n",
    "    Create embedding for <input_data>.\n",
    "    :param input_data: TF placeholder for text input.\n",
    "    :param vocab_size: Number of words in vocabulary.\n",
    "    :param embed_dim: Number of embedding dimensions\n",
    "    :return: Embedded input.\n",
    "    \"\"\"\n",
    "    with tf.name_scope('Embedding'):\n",
    "        embeddings = tf.Variable(\n",
    "            tf.random_uniform([vocab_size, embed_dim], -1.0, 1.0)\n",
    "        )\n",
    "\n",
    "        embed = tf.nn.embedding_lookup(embeddings, input_data)\n",
    "    \n",
    "    return embed\n",
    "\n",
    "\n",
    "\"\"\"\n",
    "DON'T MODIFY ANYTHING IN THIS CELL THAT IS BELOW THIS LINE\n",
    "\"\"\"\n",
    "tests.test_get_embed(get_embed)"
   ]
  },
  {
   "cell_type": "markdown",
   "metadata": {
    "deletable": true,
    "editable": true
   },
   "source": [
    "### Build RNN\n",
    "You created a RNN Cell in the `get_init_cell()` function.  Time to use the cell to create a RNN.\n",
    "- Build the RNN using the [`tf.nn.dynamic_rnn()`](https://www.tensorflow.org/api_docs/python/tf/nn/dynamic_rnn)\n",
    " - Apply the name \"final_state\" to the final state using [`tf.identity()`](https://www.tensorflow.org/api_docs/python/tf/identity)\n",
    "\n",
    "Return the outputs and final_state state in the following tuple `(Outputs, FinalState)` "
   ]
  },
  {
   "cell_type": "code",
   "execution_count": 228,
   "metadata": {
    "collapsed": false,
    "deletable": true,
    "editable": true
   },
   "outputs": [
    {
     "name": "stdout",
     "output_type": "stream",
     "text": [
      "Tests Passed\n"
     ]
    }
   ],
   "source": [
    "def build_rnn(cell, inputs):\n",
    "    \"\"\"\n",
    "    Create a RNN using a RNN Cell\n",
    "    :param cell: RNN Cell\n",
    "    :param inputs: Input text data\n",
    "    :return: Tuple (Outputs, Final State)\n",
    "    \"\"\"\n",
    "    ## NOTES\n",
    "    # dynamic rnn automatically takes the seq size in dim=1 [batch_size, max_time, ...] time_major==false (default)\n",
    "    with tf.name_scope('RNN_output'):\n",
    "        outputs, final_state = tf.nn.dynamic_rnn(cell, inputs, dtype=tf.float32)\n",
    "    \n",
    "    final_state = tf.identity(final_state, name='final_state')\n",
    "    \n",
    "    \n",
    "    return outputs, final_state\n",
    "\n",
    "\n",
    "\"\"\"\n",
    "DON'T MODIFY ANYTHING IN THIS CELL THAT IS BELOW THIS LINE\n",
    "\"\"\"\n",
    "tests.test_build_rnn(build_rnn)"
   ]
  },
  {
   "cell_type": "markdown",
   "metadata": {
    "deletable": true,
    "editable": true
   },
   "source": [
    "### Build the Neural Network\n",
    "Apply the functions you implemented above to:\n",
    "- Apply embedding to `input_data` using your `get_embed(input_data, vocab_size, embed_dim)` function.\n",
    "- Build RNN using `cell` and your `build_rnn(cell, inputs)` function.\n",
    "- Apply a fully connected layer with a linear activation and `vocab_size` as the number of outputs.\n",
    "\n",
    "Return the logits and final state in the following tuple (Logits, FinalState) "
   ]
  },
  {
   "cell_type": "code",
   "execution_count": 231,
   "metadata": {
    "collapsed": false,
    "deletable": true,
    "editable": true
   },
   "outputs": [
    {
     "name": "stdout",
     "output_type": "stream",
     "text": [
      "logits after reshape:  Tensor(\"logits_reshape_to_loss/logits:0\", shape=(128, 5, 27), dtype=float32)\n",
      "Tests Passed\n"
     ]
    }
   ],
   "source": [
    "def build_nn(cell, rnn_size, input_data, vocab_size):\n",
    "    \"\"\"\n",
    "    Build part of the neural network\n",
    "    :param cell: RNN cell\n",
    "    :param rnn_size: Size of rnns\n",
    "    :param input_data: Input data\n",
    "    :param vocab_size: Vocabulary size\n",
    "    :return: Tuple (Logits, FinalState)\n",
    "    \"\"\"\n",
    "    \n",
    "    num_outputs = vocab_size\n",
    "    \n",
    "    \n",
    "    ## Not sure why the unit test was made without taking into \n",
    "    # account we are handling dynamic tensor shape that we need to infer\n",
    "    # at runtime, so I made an if statement just to pass the test case\n",
    "    #\n",
    "    # Some references: https://goo.gl/vD3egn\n",
    "    #                  https://goo.gl/E8vT2M \n",
    "    \n",
    "    if input_data.get_shape().as_list()[1] is not None:\n",
    "        batch_size = input_data.get_shape().as_list()[0]\n",
    "        seq_len = input_data.get_shape().as_list()[1]\n",
    "    \n",
    "    # Infer dynamic tensor shape of input\n",
    "    else:\n",
    "        input_dims = tf.shape(input_data)\n",
    "        batch_size = input_dims[0]\n",
    "        seq_len = input_dims[1]\n",
    "\n",
    "    \n",
    "\n",
    "    \n",
    "    embed = get_embed(input_data, vocab_size, HYPER.embedding_size)\n",
    "    \n",
    "    \n",
    "    ## NOTES\n",
    "    # dynamic rnn automatically takes the seq size in dim=1 [batch_size, max_time, ...] see: time_major==false (default)\n",
    "    \n",
    "    ## Output shape\n",
    "    ## [batch_size, time_step, rnn_size]\n",
    "    raw_rnn_outputs, final_state = build_rnn(cell, embed)\n",
    "    \n",
    "    \n",
    "    # Put outputs in rows\n",
    "    # make the output into [batch_size*time_step, rnn_size] for easy matmul\n",
    "    with tf.name_scope('sequence_reshape'):\n",
    "        outputs = tf.reshape(raw_rnn_outputs, [-1, rnn_size], name='rnn_output')\n",
    "    \n",
    "    \n",
    "    # Question, why are we using linear activation and not softmax ?\n",
    "    # My Guess: because seq2seq.sequence_loss has an efficient way to calculate the loss directly from logits \n",
    "    with tf.name_scope('logits'):\n",
    "        \n",
    "        linear_w = tf.Variable(tf.truncated_normal((rnn_size, num_outputs), stddev=0.05), name='linear_w')\n",
    "        linear_b = tf.Variable(tf.zeros(num_outputs), name='linear_b')\n",
    "\n",
    "        logits = tf.matmul(outputs, linear_w) + linear_b\n",
    "    \n",
    "    \n",
    "    \n",
    "    # Reshape the logits back into the original input shape -> [batch_size, seq_len, num_classes]\n",
    "    # We do this beceause the loss function seq2seq.sequence_loss takes as logits a shape of [batch_size,seq_len,num_decoded_symbols]\n",
    "    with tf.name_scope('logits_reshape_to_loss'):\n",
    "        logits = tf.reshape(logits, [batch_size, seq_len, num_outputs], name='logits')\n",
    "        print('logits after reshape: ', logits)\n",
    "    \n",
    "    return logits, final_state\n",
    "\n",
    "\n",
    "\"\"\"\n",
    "DON'T MODIFY ANYTHING IN THIS CELL THAT IS BELOW THIS LINE\n",
    "\"\"\"\n",
    "tests.test_build_nn(build_nn)"
   ]
  },
  {
   "cell_type": "markdown",
   "metadata": {
    "deletable": true,
    "editable": true
   },
   "source": [
    "### Batches\n",
    "Implement `get_batches` to create batches of input and targets using `int_text`.  The batches should be a Numpy array with the shape `(number of batches, 2, batch size, sequence length)`. Each batch contains two elements:\n",
    "- The first element is a single batch of **input** with the shape `[batch size, sequence length]`\n",
    "- The second element is a single batch of **targets** with the shape `[batch size, sequence length]`\n",
    "\n",
    "If you can't fill the last batch with enough data, drop the last batch.\n",
    "\n",
    "For exmple, `get_batches([1, 2, 3, 4, 5, 6, 7, 8, 9, 10, 11, 12, 13, 14, 15], 2, 3)` would return a Numpy array of the following:\n",
    "```\n",
    "[\n",
    "  # First Batch\n",
    "  [\n",
    "    # Batch of Input\n",
    "    [[ 1  2  3], [ 7  8  9]],\n",
    "    # Batch of targets\n",
    "    [[ 2  3  4], [ 8  9 10]]\n",
    "  ],\n",
    " \n",
    "  # Second Batch\n",
    "  [\n",
    "    # Batch of Input\n",
    "    [[ 4  5  6], [10 11 12]],\n",
    "    # Batch of targets\n",
    "    [[ 5  6  7], [11 12 13]]\n",
    "  ]\n",
    "]\n",
    "```"
   ]
  },
  {
   "cell_type": "code",
   "execution_count": 233,
   "metadata": {
    "collapsed": false,
    "deletable": true,
    "editable": true
   },
   "outputs": [
    {
     "name": "stdout",
     "output_type": "stream",
     "text": [
      "Tests Passed\n"
     ]
    }
   ],
   "source": [
    "def get_batches(int_text, batch_size, seq_length):\n",
    "    \"\"\"\n",
    "    Return batches of input and target\n",
    "    :param int_text: Text with the words replaced by their ids\n",
    "    :param batch_size: The size of batch\n",
    "    :param seq_length: The length of sequence\n",
    "    :return: Batches as a Numpy array\n",
    "    \"\"\"\n",
    "    \n",
    "    slice_size = batch_size * seq_length\n",
    "    n_batches = int(len(int_text)/slice_size)\n",
    "    \n",
    "    # input part\n",
    "    _inputs = np.array(int_text[:n_batches*slice_size])\n",
    "    \n",
    "    # target part\n",
    "    _targets = np.array(int_text[1:n_batches*slice_size + 1])\n",
    "    \n",
    "\n",
    "    # Go through all inputs, targets and split them into batch_size*seq_len list of items\n",
    "    # [batch, batch, ...]\n",
    "    inputs, targets = np.split(_inputs, n_batches), np.split(_targets, n_batches)\n",
    "    \n",
    "    # concat inputs and targets\n",
    "    batches = np.c_[inputs, targets]\n",
    "    #print(batches.shape)\n",
    "    \n",
    "    # Reshape into final batches output\n",
    "    batches = batches.reshape((-1, 2, batch_size, seq_length))\n",
    "\n",
    "    #print(batches[0][1])\n",
    "\n",
    "    \n",
    "    return batches\n",
    "\n",
    "\n",
    "\"\"\"\n",
    "DON'T MODIFY ANYTHING IN THIS CELL THAT IS BELOW THIS LINE\n",
    "\"\"\"\n",
    "tests.test_get_batches(get_batches)"
   ]
  },
  {
   "cell_type": "markdown",
   "metadata": {
    "deletable": true,
    "editable": true
   },
   "source": [
    "## Neural Network Training\n",
    "### Hyperparameters\n",
    "Tune the following parameters:\n",
    "\n",
    "- Set `num_epochs` to the number of epochs.\n",
    "- Set `batch_size` to the batch size.\n",
    "- Set `rnn_size` to the size of the RNNs.\n",
    "- Set `seq_length` to the length of sequence.\n",
    "- Set `learning_rate` to the learning rate.\n",
    "- Set `show_every_n_batches` to the number of batches the neural network should print progress."
   ]
  },
  {
   "cell_type": "code",
   "execution_count": 234,
   "metadata": {
    "collapsed": true,
    "deletable": true,
    "editable": true
   },
   "outputs": [],
   "source": [
    "# Number of Epochs\n",
    "num_epochs = 1000\n",
    "# Batch Size\n",
    "batch_size = 128\n",
    "# RNN Size\n",
    "rnn_size = 70\n",
    "# Sequence Length\n",
    "seq_length = 100\n",
    "# Learning Rate\n",
    "learning_rate = 1e-3\n",
    "# Show stats for every n number of batches\n",
    "show_every_n_batches = 10\n",
    "\n",
    "\"\"\"\n",
    "DON'T MODIFY ANYTHING IN THIS CELL THAT IS BELOW THIS LINE\n",
    "\"\"\"\n",
    "save_dir = './save'"
   ]
  },
  {
   "cell_type": "markdown",
   "metadata": {
    "deletable": true,
    "editable": true
   },
   "source": [
    "### Build the Graph\n",
    "Build the graph using the neural network you implemented."
   ]
  },
  {
   "cell_type": "code",
   "execution_count": 235,
   "metadata": {
    "collapsed": false,
    "deletable": true,
    "editable": true
   },
   "outputs": [
    {
     "name": "stdout",
     "output_type": "stream",
     "text": [
      "logits after reshape:  Tensor(\"logits_reshape_to_loss/logits:0\", shape=(?, ?, 6779), dtype=float32)\n"
     ]
    }
   ],
   "source": [
    "\"\"\"\n",
    "DON'T MODIFY ANYTHING IN THIS CELL\n",
    "\"\"\"\n",
    "from tensorflow.contrib import seq2seq\n",
    "\n",
    "train_graph = tf.Graph()\n",
    "with train_graph.as_default():\n",
    "    vocab_size = len(int_to_vocab)\n",
    "    input_text, targets, lr = get_inputs()\n",
    "    input_data_shape = tf.shape(input_text)\n",
    "    cell, initial_state = get_init_cell(input_data_shape[0], rnn_size)\n",
    "    logits, final_state = build_nn(cell, rnn_size, input_text, vocab_size)\n",
    "\n",
    "    # Probabilities for generating words\n",
    "    probs = tf.nn.softmax(logits, name='probs')\n",
    "\n",
    "    # Loss function\n",
    "    cost = seq2seq.sequence_loss(\n",
    "        logits,\n",
    "        targets,\n",
    "        tf.ones([input_data_shape[0], input_data_shape[1]]))\n",
    "\n",
    "    # Optimizer\n",
    "    optimizer = tf.train.AdamOptimizer(lr)\n",
    "\n",
    "    # Gradient Clipping\n",
    "    gradients = optimizer.compute_gradients(cost)\n",
    "    capped_gradients = [(tf.clip_by_value(grad, -1., 1.), var) for grad, var in gradients]\n",
    "    train_op = optimizer.apply_gradients(capped_gradients)"
   ]
  },
  {
   "cell_type": "code",
   "execution_count": 238,
   "metadata": {
    "collapsed": false,
    "deletable": true,
    "editable": true
   },
   "outputs": [],
   "source": [
    "# write out the graph for tensorboard\n",
    "\n",
    "with tf.Session(graph=train_graph) as sess:\n",
    "    file_writer = tf.summary.FileWriter('./logs/1', sess.graph)"
   ]
  },
  {
   "cell_type": "markdown",
   "metadata": {
    "deletable": true,
    "editable": true
   },
   "source": [
    "## Train\n",
    "Train the neural network on the preprocessed data.  If you have a hard time getting a good loss, check the [forms](https://discussions.udacity.com/) to see if anyone is having the same problem."
   ]
  },
  {
   "cell_type": "code",
   "execution_count": 197,
   "metadata": {
    "collapsed": false,
    "deletable": true,
    "editable": true
   },
   "outputs": [
    {
     "name": "stdout",
     "output_type": "stream",
     "text": [
      "5\n",
      "Epoch   0 Batch    0/5   train_loss = 8.825\n",
      "Epoch   2 Batch    0/5   train_loss = 6.441\n",
      "Epoch   4 Batch    0/5   train_loss = 6.023\n",
      "Epoch   6 Batch    0/5   train_loss = 5.927\n",
      "Epoch   8 Batch    0/5   train_loss = 5.903\n",
      "Epoch  10 Batch    0/5   train_loss = 5.883\n",
      "Epoch  12 Batch    0/5   train_loss = 5.874\n",
      "Epoch  14 Batch    0/5   train_loss = 5.858\n",
      "Epoch  16 Batch    0/5   train_loss = 5.833\n",
      "Epoch  18 Batch    0/5   train_loss = 5.794\n",
      "Epoch  20 Batch    0/5   train_loss = 5.739\n",
      "Epoch  22 Batch    0/5   train_loss = 5.682\n",
      "Epoch  24 Batch    0/5   train_loss = 5.626\n",
      "Epoch  26 Batch    0/5   train_loss = 5.572\n",
      "Epoch  28 Batch    0/5   train_loss = 5.521\n",
      "Epoch  30 Batch    0/5   train_loss = 5.471\n",
      "Epoch  32 Batch    0/5   train_loss = 5.421\n",
      "Epoch  34 Batch    0/5   train_loss = 5.365\n",
      "Epoch  36 Batch    0/5   train_loss = 5.304\n",
      "Epoch  38 Batch    0/5   train_loss = 5.244\n",
      "Epoch  40 Batch    0/5   train_loss = 5.185\n",
      "Epoch  42 Batch    0/5   train_loss = 5.124\n",
      "Epoch  44 Batch    0/5   train_loss = 5.063\n",
      "Epoch  46 Batch    0/5   train_loss = 5.003\n",
      "Epoch  48 Batch    0/5   train_loss = 4.945\n",
      "Epoch  50 Batch    0/5   train_loss = 4.891\n",
      "Epoch  52 Batch    0/5   train_loss = 4.841\n",
      "Epoch  54 Batch    0/5   train_loss = 4.794\n",
      "Epoch  56 Batch    0/5   train_loss = 4.751\n",
      "Epoch  58 Batch    0/5   train_loss = 4.710\n",
      "Epoch  60 Batch    0/5   train_loss = 4.669\n",
      "Epoch  62 Batch    0/5   train_loss = 4.638\n",
      "Epoch  64 Batch    0/5   train_loss = 4.638\n",
      "Epoch  66 Batch    0/5   train_loss = 4.589\n",
      "Epoch  68 Batch    0/5   train_loss = 4.537\n",
      "Epoch  70 Batch    0/5   train_loss = 4.501\n",
      "Epoch  72 Batch    0/5   train_loss = 4.469\n",
      "Epoch  74 Batch    0/5   train_loss = 4.436\n",
      "Epoch  76 Batch    0/5   train_loss = 4.405\n",
      "Epoch  78 Batch    0/5   train_loss = 4.375\n",
      "Epoch  80 Batch    0/5   train_loss = 4.344\n",
      "Epoch  82 Batch    0/5   train_loss = 4.363\n",
      "Epoch  84 Batch    0/5   train_loss = 4.311\n",
      "Epoch  86 Batch    0/5   train_loss = 4.274\n",
      "Epoch  88 Batch    0/5   train_loss = 4.240\n",
      "Epoch  90 Batch    0/5   train_loss = 4.211\n",
      "Epoch  92 Batch    0/5   train_loss = 4.182\n",
      "Epoch  94 Batch    0/5   train_loss = 4.155\n",
      "Epoch  96 Batch    0/5   train_loss = 4.135\n",
      "Epoch  98 Batch    0/5   train_loss = 4.107\n",
      "Epoch 100 Batch    0/5   train_loss = 4.093\n",
      "Epoch 102 Batch    0/5   train_loss = 4.053\n",
      "Epoch 104 Batch    0/5   train_loss = 4.030\n",
      "Epoch 106 Batch    0/5   train_loss = 4.002\n",
      "Epoch 108 Batch    0/5   train_loss = 3.978\n",
      "Epoch 110 Batch    0/5   train_loss = 3.951\n",
      "Epoch 112 Batch    0/5   train_loss = 3.928\n",
      "Epoch 114 Batch    0/5   train_loss = 3.902\n",
      "Epoch 116 Batch    0/5   train_loss = 3.884\n",
      "Epoch 118 Batch    0/5   train_loss = 3.862\n",
      "Epoch 120 Batch    0/5   train_loss = 3.840\n",
      "Epoch 122 Batch    0/5   train_loss = 3.814\n",
      "Epoch 124 Batch    0/5   train_loss = 3.803\n",
      "Epoch 126 Batch    0/5   train_loss = 3.775\n",
      "Epoch 128 Batch    0/5   train_loss = 3.738\n",
      "Epoch 130 Batch    0/5   train_loss = 3.714\n",
      "Epoch 132 Batch    0/5   train_loss = 3.690\n",
      "Epoch 134 Batch    0/5   train_loss = 3.665\n",
      "Epoch 136 Batch    0/5   train_loss = 3.642\n",
      "Epoch 138 Batch    0/5   train_loss = 3.619\n",
      "Epoch 140 Batch    0/5   train_loss = 3.596\n",
      "Epoch 142 Batch    0/5   train_loss = 3.577\n",
      "Epoch 144 Batch    0/5   train_loss = 3.588\n",
      "Epoch 146 Batch    0/5   train_loss = 3.561\n",
      "Epoch 148 Batch    0/5   train_loss = 3.537\n",
      "Epoch 150 Batch    0/5   train_loss = 3.494\n",
      "Epoch 152 Batch    0/5   train_loss = 3.475\n",
      "Epoch 154 Batch    0/5   train_loss = 3.444\n",
      "Epoch 156 Batch    0/5   train_loss = 3.431\n",
      "Epoch 158 Batch    0/5   train_loss = 3.403\n",
      "Epoch 160 Batch    0/5   train_loss = 3.393\n",
      "Epoch 162 Batch    0/5   train_loss = 3.371\n",
      "Epoch 164 Batch    0/5   train_loss = 3.352\n",
      "Epoch 166 Batch    0/5   train_loss = 3.323\n",
      "Epoch 168 Batch    0/5   train_loss = 3.328\n",
      "Epoch 170 Batch    0/5   train_loss = 3.281\n",
      "Epoch 172 Batch    0/5   train_loss = 3.261\n",
      "Epoch 174 Batch    0/5   train_loss = 3.238\n",
      "Epoch 176 Batch    0/5   train_loss = 3.216\n",
      "Epoch 178 Batch    0/5   train_loss = 3.197\n",
      "Epoch 180 Batch    0/5   train_loss = 3.172\n",
      "Epoch 182 Batch    0/5   train_loss = 3.169\n",
      "Epoch 184 Batch    0/5   train_loss = 3.140\n",
      "Epoch 186 Batch    0/5   train_loss = 3.136\n",
      "Epoch 188 Batch    0/5   train_loss = 3.145\n",
      "Epoch 190 Batch    0/5   train_loss = 3.106\n",
      "Epoch 192 Batch    0/5   train_loss = 3.069\n",
      "Epoch 194 Batch    0/5   train_loss = 3.038\n",
      "Epoch 196 Batch    0/5   train_loss = 3.019\n",
      "Epoch 198 Batch    0/5   train_loss = 2.995\n",
      "Epoch 200 Batch    0/5   train_loss = 2.979\n",
      "Epoch 202 Batch    0/5   train_loss = 2.960\n",
      "Epoch 204 Batch    0/5   train_loss = 2.943\n",
      "Epoch 206 Batch    0/5   train_loss = 2.963\n",
      "Epoch 208 Batch    0/5   train_loss = 2.917\n",
      "Epoch 210 Batch    0/5   train_loss = 2.898\n",
      "Epoch 212 Batch    0/5   train_loss = 2.867\n",
      "Epoch 214 Batch    0/5   train_loss = 2.863\n",
      "Epoch 216 Batch    0/5   train_loss = 2.834\n",
      "Epoch 218 Batch    0/5   train_loss = 2.809\n",
      "Epoch 220 Batch    0/5   train_loss = 2.797\n",
      "Epoch 222 Batch    0/5   train_loss = 2.774\n",
      "Epoch 224 Batch    0/5   train_loss = 2.759\n",
      "Epoch 226 Batch    0/5   train_loss = 2.732\n",
      "Epoch 228 Batch    0/5   train_loss = 2.742\n",
      "Epoch 230 Batch    0/5   train_loss = 2.704\n",
      "Epoch 232 Batch    0/5   train_loss = 2.703\n",
      "Epoch 234 Batch    0/5   train_loss = 2.663\n",
      "Epoch 236 Batch    0/5   train_loss = 2.672\n",
      "Epoch 238 Batch    0/5   train_loss = 2.638\n",
      "Epoch 240 Batch    0/5   train_loss = 2.620\n",
      "Epoch 242 Batch    0/5   train_loss = 2.595\n",
      "Epoch 244 Batch    0/5   train_loss = 2.585\n",
      "Epoch 246 Batch    0/5   train_loss = 2.563\n",
      "Epoch 248 Batch    0/5   train_loss = 2.539\n",
      "Epoch 250 Batch    0/5   train_loss = 2.534\n",
      "Epoch 252 Batch    0/5   train_loss = 2.517\n",
      "Epoch 254 Batch    0/5   train_loss = 2.497\n",
      "Epoch 256 Batch    0/5   train_loss = 2.475\n",
      "Epoch 258 Batch    0/5   train_loss = 2.463\n",
      "Epoch 260 Batch    0/5   train_loss = 2.478\n",
      "Epoch 262 Batch    0/5   train_loss = 2.450\n",
      "Epoch 264 Batch    0/5   train_loss = 2.436\n",
      "Epoch 266 Batch    0/5   train_loss = 2.417\n",
      "Epoch 268 Batch    0/5   train_loss = 2.384\n",
      "Epoch 270 Batch    0/5   train_loss = 2.363\n",
      "Epoch 272 Batch    0/5   train_loss = 2.340\n",
      "Epoch 274 Batch    0/5   train_loss = 2.323\n",
      "Epoch 276 Batch    0/5   train_loss = 2.314\n",
      "Epoch 278 Batch    0/5   train_loss = 2.302\n",
      "Epoch 280 Batch    0/5   train_loss = 2.300\n",
      "Epoch 282 Batch    0/5   train_loss = 2.300\n",
      "Epoch 284 Batch    0/5   train_loss = 2.283\n",
      "Epoch 286 Batch    0/5   train_loss = 2.246\n",
      "Epoch 288 Batch    0/5   train_loss = 2.246\n",
      "Epoch 290 Batch    0/5   train_loss = 2.210\n",
      "Epoch 292 Batch    0/5   train_loss = 2.203\n",
      "Epoch 294 Batch    0/5   train_loss = 2.185\n",
      "Epoch 296 Batch    0/5   train_loss = 2.170\n",
      "Epoch 298 Batch    0/5   train_loss = 2.150\n",
      "Epoch 300 Batch    0/5   train_loss = 2.130\n",
      "Epoch 302 Batch    0/5   train_loss = 2.132\n",
      "Epoch 304 Batch    0/5   train_loss = 2.113\n",
      "Epoch 306 Batch    0/5   train_loss = 2.083\n",
      "Epoch 308 Batch    0/5   train_loss = 2.073\n",
      "Epoch 310 Batch    0/5   train_loss = 2.060\n",
      "Epoch 312 Batch    0/5   train_loss = 2.072\n",
      "Epoch 314 Batch    0/5   train_loss = 2.081\n",
      "Epoch 316 Batch    0/5   train_loss = 2.031\n",
      "Epoch 318 Batch    0/5   train_loss = 2.007\n",
      "Epoch 320 Batch    0/5   train_loss = 2.001\n",
      "Epoch 322 Batch    0/5   train_loss = 1.987\n",
      "Epoch 324 Batch    0/5   train_loss = 1.978\n",
      "Epoch 326 Batch    0/5   train_loss = 1.963\n",
      "Epoch 328 Batch    0/5   train_loss = 1.952\n",
      "Epoch 330 Batch    0/5   train_loss = 1.932\n",
      "Epoch 332 Batch    0/5   train_loss = 1.918\n",
      "Epoch 334 Batch    0/5   train_loss = 1.898\n",
      "Epoch 336 Batch    0/5   train_loss = 1.885\n",
      "Epoch 338 Batch    0/5   train_loss = 1.872\n",
      "Epoch 340 Batch    0/5   train_loss = 1.864\n",
      "Epoch 342 Batch    0/5   train_loss = 1.867\n",
      "Epoch 344 Batch    0/5   train_loss = 1.848\n",
      "Epoch 346 Batch    0/5   train_loss = 1.821\n",
      "Epoch 348 Batch    0/5   train_loss = 1.814\n",
      "Epoch 350 Batch    0/5   train_loss = 1.788\n",
      "Epoch 352 Batch    0/5   train_loss = 1.806\n",
      "Epoch 354 Batch    0/5   train_loss = 1.790\n",
      "Epoch 356 Batch    0/5   train_loss = 1.761\n",
      "Epoch 358 Batch    0/5   train_loss = 1.745\n",
      "Epoch 360 Batch    0/5   train_loss = 1.735\n",
      "Epoch 362 Batch    0/5   train_loss = 1.718\n",
      "Epoch 364 Batch    0/5   train_loss = 1.747\n",
      "Epoch 366 Batch    0/5   train_loss = 1.726\n",
      "Epoch 368 Batch    0/5   train_loss = 1.753\n",
      "Epoch 370 Batch    0/5   train_loss = 1.703\n",
      "Epoch 372 Batch    0/5   train_loss = 1.662\n",
      "Epoch 374 Batch    0/5   train_loss = 1.643\n",
      "Epoch 376 Batch    0/5   train_loss = 1.624\n",
      "Epoch 378 Batch    0/5   train_loss = 1.617\n",
      "Epoch 380 Batch    0/5   train_loss = 1.598\n",
      "Epoch 382 Batch    0/5   train_loss = 1.613\n",
      "Epoch 384 Batch    0/5   train_loss = 1.601\n",
      "Epoch 386 Batch    0/5   train_loss = 1.584\n",
      "Epoch 388 Batch    0/5   train_loss = 1.569\n",
      "Epoch 390 Batch    0/5   train_loss = 1.557\n",
      "Epoch 392 Batch    0/5   train_loss = 1.534\n",
      "Epoch 394 Batch    0/5   train_loss = 1.534\n",
      "Epoch 396 Batch    0/5   train_loss = 1.520\n",
      "Epoch 398 Batch    0/5   train_loss = 1.547\n",
      "Epoch 400 Batch    0/5   train_loss = 1.545\n",
      "Epoch 402 Batch    0/5   train_loss = 1.521\n",
      "Epoch 404 Batch    0/5   train_loss = 1.486\n",
      "Epoch 406 Batch    0/5   train_loss = 1.469\n",
      "Epoch 408 Batch    0/5   train_loss = 1.458\n",
      "Epoch 410 Batch    0/5   train_loss = 1.442\n",
      "Epoch 412 Batch    0/5   train_loss = 1.431\n",
      "Epoch 414 Batch    0/5   train_loss = 1.410\n",
      "Epoch 416 Batch    0/5   train_loss = 1.411\n",
      "Epoch 418 Batch    0/5   train_loss = 1.412\n",
      "Epoch 420 Batch    0/5   train_loss = 1.398\n",
      "Epoch 422 Batch    0/5   train_loss = 1.417\n",
      "Epoch 424 Batch    0/5   train_loss = 1.381\n",
      "Epoch 426 Batch    0/5   train_loss = 1.355\n",
      "Epoch 428 Batch    0/5   train_loss = 1.354\n",
      "Epoch 430 Batch    0/5   train_loss = 1.338\n",
      "Epoch 432 Batch    0/5   train_loss = 1.321\n",
      "Epoch 434 Batch    0/5   train_loss = 1.326\n",
      "Epoch 436 Batch    0/5   train_loss = 1.324\n",
      "Epoch 438 Batch    0/5   train_loss = 1.314\n",
      "Epoch 440 Batch    0/5   train_loss = 1.292\n",
      "Epoch 442 Batch    0/5   train_loss = 1.279\n",
      "Epoch 444 Batch    0/5   train_loss = 1.259\n",
      "Epoch 446 Batch    0/5   train_loss = 1.283\n",
      "Epoch 448 Batch    0/5   train_loss = 1.274\n",
      "Epoch 450 Batch    0/5   train_loss = 1.251\n",
      "Epoch 452 Batch    0/5   train_loss = 1.279\n",
      "Epoch 454 Batch    0/5   train_loss = 1.249\n",
      "Epoch 456 Batch    0/5   train_loss = 1.214\n",
      "Epoch 458 Batch    0/5   train_loss = 1.196\n",
      "Epoch 460 Batch    0/5   train_loss = 1.185\n",
      "Epoch 462 Batch    0/5   train_loss = 1.174\n",
      "Epoch 464 Batch    0/5   train_loss = 1.158\n",
      "Epoch 466 Batch    0/5   train_loss = 1.195\n",
      "Epoch 468 Batch    0/5   train_loss = 1.158\n",
      "Epoch 470 Batch    0/5   train_loss = 1.145\n",
      "Epoch 472 Batch    0/5   train_loss = 1.160\n",
      "Epoch 474 Batch    0/5   train_loss = 1.123\n",
      "Epoch 476 Batch    0/5   train_loss = 1.118\n",
      "Epoch 478 Batch    0/5   train_loss = 1.103\n",
      "Epoch 480 Batch    0/5   train_loss = 1.088\n",
      "Epoch 482 Batch    0/5   train_loss = 1.089\n",
      "Epoch 484 Batch    0/5   train_loss = 1.094\n",
      "Epoch 486 Batch    0/5   train_loss = 1.092\n",
      "Epoch 488 Batch    0/5   train_loss = 1.106\n",
      "Epoch 490 Batch    0/5   train_loss = 1.053\n",
      "Epoch 492 Batch    0/5   train_loss = 1.052\n",
      "Epoch 494 Batch    0/5   train_loss = 1.046\n",
      "Epoch 496 Batch    0/5   train_loss = 1.030\n",
      "Epoch 498 Batch    0/5   train_loss = 1.021\n",
      "Epoch 500 Batch    0/5   train_loss = 1.020\n",
      "Epoch 502 Batch    0/5   train_loss = 1.046\n",
      "Epoch 504 Batch    0/5   train_loss = 1.040\n",
      "Epoch 506 Batch    0/5   train_loss = 1.026\n",
      "Epoch 508 Batch    0/5   train_loss = 0.982\n",
      "Epoch 510 Batch    0/5   train_loss = 0.969\n",
      "Epoch 512 Batch    0/5   train_loss = 0.962\n",
      "Epoch 514 Batch    0/5   train_loss = 0.946\n",
      "Epoch 516 Batch    0/5   train_loss = 0.941\n",
      "Epoch 518 Batch    0/5   train_loss = 0.951\n",
      "Epoch 520 Batch    0/5   train_loss = 0.945\n",
      "Epoch 522 Batch    0/5   train_loss = 0.952\n",
      "Epoch 524 Batch    0/5   train_loss = 0.931\n",
      "Epoch 526 Batch    0/5   train_loss = 0.905\n",
      "Epoch 528 Batch    0/5   train_loss = 0.893\n",
      "Epoch 530 Batch    0/5   train_loss = 0.881\n",
      "Epoch 532 Batch    0/5   train_loss = 0.882\n",
      "Epoch 534 Batch    0/5   train_loss = 0.871\n",
      "Epoch 536 Batch    0/5   train_loss = 0.904\n",
      "Epoch 538 Batch    0/5   train_loss = 0.893\n",
      "Epoch 540 Batch    0/5   train_loss = 0.884\n",
      "Epoch 542 Batch    0/5   train_loss = 0.864\n",
      "Epoch 544 Batch    0/5   train_loss = 0.854\n",
      "Epoch 546 Batch    0/5   train_loss = 0.854\n",
      "Epoch 548 Batch    0/5   train_loss = 0.836\n",
      "Epoch 550 Batch    0/5   train_loss = 0.816\n",
      "Epoch 552 Batch    0/5   train_loss = 0.829\n",
      "Epoch 554 Batch    0/5   train_loss = 0.813\n",
      "Epoch 556 Batch    0/5   train_loss = 0.798\n",
      "Epoch 558 Batch    0/5   train_loss = 0.808\n",
      "Epoch 560 Batch    0/5   train_loss = 0.789\n",
      "Epoch 562 Batch    0/5   train_loss = 0.791\n",
      "Epoch 564 Batch    0/5   train_loss = 0.779\n",
      "Epoch 566 Batch    0/5   train_loss = 0.765\n",
      "Epoch 568 Batch    0/5   train_loss = 0.746\n",
      "Epoch 570 Batch    0/5   train_loss = 0.746\n",
      "Epoch 572 Batch    0/5   train_loss = 0.733\n",
      "Epoch 574 Batch    0/5   train_loss = 0.733\n",
      "Epoch 576 Batch    0/5   train_loss = 0.752\n",
      "Epoch 578 Batch    0/5   train_loss = 0.727\n",
      "Epoch 580 Batch    0/5   train_loss = 0.712\n",
      "Epoch 582 Batch    0/5   train_loss = 0.711\n",
      "Epoch 584 Batch    0/5   train_loss = 0.708\n",
      "Epoch 586 Batch    0/5   train_loss = 0.695\n",
      "Epoch 588 Batch    0/5   train_loss = 0.699\n",
      "Epoch 590 Batch    0/5   train_loss = 0.688\n",
      "Epoch 592 Batch    0/5   train_loss = 0.682\n",
      "Epoch 594 Batch    0/5   train_loss = 0.703\n",
      "Epoch 596 Batch    0/5   train_loss = 0.681\n",
      "Epoch 598 Batch    0/5   train_loss = 0.672\n",
      "Epoch 600 Batch    0/5   train_loss = 0.678\n",
      "Epoch 602 Batch    0/5   train_loss = 0.657\n",
      "Epoch 604 Batch    0/5   train_loss = 0.652\n",
      "Epoch 606 Batch    0/5   train_loss = 0.627\n",
      "Epoch 608 Batch    0/5   train_loss = 0.623\n",
      "Epoch 610 Batch    0/5   train_loss = 0.633\n",
      "Epoch 612 Batch    0/5   train_loss = 0.608\n",
      "Epoch 614 Batch    0/5   train_loss = 0.614\n",
      "Epoch 616 Batch    0/5   train_loss = 0.620\n",
      "Epoch 618 Batch    0/5   train_loss = 0.610\n",
      "Epoch 620 Batch    0/5   train_loss = 0.596\n",
      "Epoch 622 Batch    0/5   train_loss = 0.596\n",
      "Epoch 624 Batch    0/5   train_loss = 0.605\n",
      "Epoch 626 Batch    0/5   train_loss = 0.574\n",
      "Epoch 628 Batch    0/5   train_loss = 0.581\n",
      "Epoch 630 Batch    0/5   train_loss = 0.571\n",
      "Epoch 632 Batch    0/5   train_loss = 0.563\n",
      "Epoch 634 Batch    0/5   train_loss = 0.582\n",
      "Epoch 636 Batch    0/5   train_loss = 0.579\n",
      "Epoch 638 Batch    0/5   train_loss = 0.562\n",
      "Epoch 640 Batch    0/5   train_loss = 0.549\n",
      "Epoch 642 Batch    0/5   train_loss = 0.540\n",
      "Epoch 644 Batch    0/5   train_loss = 0.520\n",
      "Epoch 646 Batch    0/5   train_loss = 0.515\n",
      "Epoch 648 Batch    0/5   train_loss = 0.509\n",
      "Epoch 650 Batch    0/5   train_loss = 0.509\n",
      "Epoch 652 Batch    0/5   train_loss = 0.527\n",
      "Epoch 654 Batch    0/5   train_loss = 0.524\n",
      "Epoch 656 Batch    0/5   train_loss = 0.509\n",
      "Epoch 658 Batch    0/5   train_loss = 0.523\n",
      "Epoch 660 Batch    0/5   train_loss = 0.502\n",
      "Epoch 662 Batch    0/5   train_loss = 0.477\n",
      "Epoch 664 Batch    0/5   train_loss = 0.473\n",
      "Epoch 666 Batch    0/5   train_loss = 0.463\n",
      "Epoch 668 Batch    0/5   train_loss = 0.457\n",
      "Epoch 670 Batch    0/5   train_loss = 0.455\n",
      "Epoch 672 Batch    0/5   train_loss = 0.459\n",
      "Epoch 674 Batch    0/5   train_loss = 0.475\n",
      "Epoch 676 Batch    0/5   train_loss = 0.471\n",
      "Epoch 678 Batch    0/5   train_loss = 0.455\n",
      "Epoch 680 Batch    0/5   train_loss = 0.443\n",
      "Epoch 682 Batch    0/5   train_loss = 0.456\n",
      "Epoch 684 Batch    0/5   train_loss = 0.440\n",
      "Epoch 686 Batch    0/5   train_loss = 0.421\n",
      "Epoch 688 Batch    0/5   train_loss = 0.413\n",
      "Epoch 690 Batch    0/5   train_loss = 0.405\n",
      "Epoch 692 Batch    0/5   train_loss = 0.401\n",
      "Epoch 694 Batch    0/5   train_loss = 0.404\n",
      "Epoch 696 Batch    0/5   train_loss = 0.400\n",
      "Epoch 698 Batch    0/5   train_loss = 0.428\n",
      "Epoch 700 Batch    0/5   train_loss = 0.451\n",
      "Epoch 702 Batch    0/5   train_loss = 0.426\n",
      "Epoch 704 Batch    0/5   train_loss = 0.410\n",
      "Epoch 706 Batch    0/5   train_loss = 0.422\n",
      "Epoch 708 Batch    0/5   train_loss = 0.398\n",
      "Epoch 710 Batch    0/5   train_loss = 0.377\n",
      "Epoch 712 Batch    0/5   train_loss = 0.368\n",
      "Epoch 714 Batch    0/5   train_loss = 0.358\n",
      "Epoch 716 Batch    0/5   train_loss = 0.352\n",
      "Epoch 718 Batch    0/5   train_loss = 0.349\n",
      "Epoch 720 Batch    0/5   train_loss = 0.344\n",
      "Epoch 722 Batch    0/5   train_loss = 0.346\n",
      "Epoch 724 Batch    0/5   train_loss = 0.345\n",
      "Epoch 726 Batch    0/5   train_loss = 0.337\n",
      "Epoch 728 Batch    0/5   train_loss = 0.345\n",
      "Epoch 730 Batch    0/5   train_loss = 0.348\n",
      "Epoch 732 Batch    0/5   train_loss = 0.358\n",
      "Epoch 734 Batch    0/5   train_loss = 0.346\n",
      "Epoch 736 Batch    0/5   train_loss = 0.337\n",
      "Epoch 738 Batch    0/5   train_loss = 0.329\n",
      "Epoch 740 Batch    0/5   train_loss = 0.320\n",
      "Epoch 742 Batch    0/5   train_loss = 0.323\n",
      "Epoch 744 Batch    0/5   train_loss = 0.316\n",
      "Epoch 746 Batch    0/5   train_loss = 0.304\n",
      "Epoch 748 Batch    0/5   train_loss = 0.299\n",
      "Epoch 750 Batch    0/5   train_loss = 0.292\n",
      "Epoch 752 Batch    0/5   train_loss = 0.288\n",
      "Epoch 754 Batch    0/5   train_loss = 0.289\n",
      "Epoch 756 Batch    0/5   train_loss = 0.284\n",
      "Epoch 758 Batch    0/5   train_loss = 0.290\n",
      "Epoch 760 Batch    0/5   train_loss = 0.304\n",
      "Epoch 762 Batch    0/5   train_loss = 0.311\n",
      "Epoch 764 Batch    0/5   train_loss = 0.405\n",
      "Epoch 766 Batch    0/5   train_loss = 0.390\n",
      "Epoch 768 Batch    0/5   train_loss = 0.344\n",
      "Epoch 770 Batch    0/5   train_loss = 0.320\n",
      "Epoch 772 Batch    0/5   train_loss = 0.280\n",
      "Epoch 774 Batch    0/5   train_loss = 0.265\n",
      "Epoch 776 Batch    0/5   train_loss = 0.258\n",
      "Epoch 778 Batch    0/5   train_loss = 0.252\n",
      "Epoch 780 Batch    0/5   train_loss = 0.247\n",
      "Epoch 782 Batch    0/5   train_loss = 0.243\n",
      "Epoch 784 Batch    0/5   train_loss = 0.240\n",
      "Epoch 786 Batch    0/5   train_loss = 0.237\n",
      "Epoch 788 Batch    0/5   train_loss = 0.233\n",
      "Epoch 790 Batch    0/5   train_loss = 0.231\n",
      "Epoch 792 Batch    0/5   train_loss = 0.229\n",
      "Epoch 794 Batch    0/5   train_loss = 0.225\n",
      "Epoch 796 Batch    0/5   train_loss = 0.230\n",
      "Epoch 798 Batch    0/5   train_loss = 0.226\n",
      "Epoch 800 Batch    0/5   train_loss = 0.222\n",
      "Epoch 802 Batch    0/5   train_loss = 0.237\n",
      "Epoch 804 Batch    0/5   train_loss = 0.225\n",
      "Epoch 806 Batch    0/5   train_loss = 0.225\n",
      "Epoch 808 Batch    0/5   train_loss = 0.245\n",
      "Epoch 810 Batch    0/5   train_loss = 0.227\n",
      "Epoch 812 Batch    0/5   train_loss = 0.210\n",
      "Epoch 814 Batch    0/5   train_loss = 0.206\n",
      "Epoch 816 Batch    0/5   train_loss = 0.202\n",
      "Epoch 818 Batch    0/5   train_loss = 0.198\n",
      "Epoch 820 Batch    0/5   train_loss = 0.195\n",
      "Epoch 822 Batch    0/5   train_loss = 0.192\n",
      "Epoch 824 Batch    0/5   train_loss = 0.189\n",
      "Epoch 826 Batch    0/5   train_loss = 0.189\n",
      "Epoch 828 Batch    0/5   train_loss = 0.187\n",
      "Epoch 830 Batch    0/5   train_loss = 0.186\n",
      "Epoch 832 Batch    0/5   train_loss = 0.187\n",
      "Epoch 834 Batch    0/5   train_loss = 0.189\n",
      "Epoch 836 Batch    0/5   train_loss = 0.189\n",
      "Epoch 838 Batch    0/5   train_loss = 0.197\n",
      "Epoch 840 Batch    0/5   train_loss = 0.207\n",
      "Epoch 842 Batch    0/5   train_loss = 0.196\n",
      "Epoch 844 Batch    0/5   train_loss = 0.187\n",
      "Epoch 846 Batch    0/5   train_loss = 0.197\n",
      "Epoch 848 Batch    0/5   train_loss = 0.189\n",
      "Epoch 850 Batch    0/5   train_loss = 0.176\n",
      "Epoch 852 Batch    0/5   train_loss = 0.171\n",
      "Epoch 854 Batch    0/5   train_loss = 0.164\n",
      "Epoch 856 Batch    0/5   train_loss = 0.161\n",
      "Epoch 858 Batch    0/5   train_loss = 0.157\n",
      "Epoch 860 Batch    0/5   train_loss = 0.154\n",
      "Epoch 862 Batch    0/5   train_loss = 0.152\n",
      "Epoch 864 Batch    0/5   train_loss = 0.150\n",
      "Epoch 866 Batch    0/5   train_loss = 0.148\n",
      "Epoch 868 Batch    0/5   train_loss = 0.146\n",
      "Epoch 870 Batch    0/5   train_loss = 0.145\n",
      "Epoch 872 Batch    0/5   train_loss = 0.145\n",
      "Epoch 874 Batch    0/5   train_loss = 0.142\n",
      "Epoch 876 Batch    0/5   train_loss = 0.143\n",
      "Epoch 878 Batch    0/5   train_loss = 0.159\n",
      "Epoch 880 Batch    0/5   train_loss = 0.145\n",
      "Epoch 882 Batch    0/5   train_loss = 0.161\n",
      "Epoch 884 Batch    0/5   train_loss = 0.211\n",
      "Epoch 886 Batch    0/5   train_loss = 0.196\n",
      "Epoch 888 Batch    0/5   train_loss = 0.335\n",
      "Epoch 890 Batch    0/5   train_loss = 0.325\n",
      "Epoch 892 Batch    0/5   train_loss = 0.279\n",
      "Epoch 894 Batch    0/5   train_loss = 0.244\n",
      "Epoch 896 Batch    0/5   train_loss = 0.214\n",
      "Epoch 898 Batch    0/5   train_loss = 0.174\n",
      "Epoch 900 Batch    0/5   train_loss = 0.147\n",
      "Epoch 902 Batch    0/5   train_loss = 0.138\n",
      "Epoch 904 Batch    0/5   train_loss = 0.131\n",
      "Epoch 906 Batch    0/5   train_loss = 0.128\n",
      "Epoch 908 Batch    0/5   train_loss = 0.125\n",
      "Epoch 910 Batch    0/5   train_loss = 0.123\n",
      "Epoch 912 Batch    0/5   train_loss = 0.121\n",
      "Epoch 914 Batch    0/5   train_loss = 0.119\n",
      "Epoch 916 Batch    0/5   train_loss = 0.117\n",
      "Epoch 918 Batch    0/5   train_loss = 0.116\n",
      "Epoch 920 Batch    0/5   train_loss = 0.114\n",
      "Epoch 922 Batch    0/5   train_loss = 0.113\n",
      "Epoch 924 Batch    0/5   train_loss = 0.112\n",
      "Epoch 926 Batch    0/5   train_loss = 0.111\n",
      "Epoch 928 Batch    0/5   train_loss = 0.109\n",
      "Epoch 930 Batch    0/5   train_loss = 0.108\n",
      "Epoch 932 Batch    0/5   train_loss = 0.107\n",
      "Epoch 934 Batch    0/5   train_loss = 0.106\n",
      "Epoch 936 Batch    0/5   train_loss = 0.105\n",
      "Epoch 938 Batch    0/5   train_loss = 0.103\n",
      "Epoch 940 Batch    0/5   train_loss = 0.102\n",
      "Epoch 942 Batch    0/5   train_loss = 0.101\n",
      "Epoch 944 Batch    0/5   train_loss = 0.100\n",
      "Epoch 946 Batch    0/5   train_loss = 0.099\n",
      "Epoch 948 Batch    0/5   train_loss = 0.098\n",
      "Epoch 950 Batch    0/5   train_loss = 0.097\n",
      "Epoch 952 Batch    0/5   train_loss = 0.096\n",
      "Epoch 954 Batch    0/5   train_loss = 0.095\n",
      "Epoch 956 Batch    0/5   train_loss = 0.094\n",
      "Epoch 958 Batch    0/5   train_loss = 0.094\n",
      "Epoch 960 Batch    0/5   train_loss = 0.093\n",
      "Epoch 962 Batch    0/5   train_loss = 0.092\n",
      "Epoch 964 Batch    0/5   train_loss = 0.091\n",
      "Epoch 966 Batch    0/5   train_loss = 0.090\n",
      "Epoch 968 Batch    0/5   train_loss = 0.089\n",
      "Epoch 970 Batch    0/5   train_loss = 0.088\n",
      "Epoch 972 Batch    0/5   train_loss = 0.088\n",
      "Epoch 974 Batch    0/5   train_loss = 0.087\n",
      "Epoch 976 Batch    0/5   train_loss = 0.086\n",
      "Epoch 978 Batch    0/5   train_loss = 0.085\n",
      "Epoch 980 Batch    0/5   train_loss = 0.084\n",
      "Epoch 982 Batch    0/5   train_loss = 0.083\n",
      "Epoch 984 Batch    0/5   train_loss = 0.083\n",
      "Epoch 986 Batch    0/5   train_loss = 0.082\n",
      "Epoch 988 Batch    0/5   train_loss = 0.081\n",
      "Epoch 990 Batch    0/5   train_loss = 0.080\n",
      "Epoch 992 Batch    0/5   train_loss = 0.080\n",
      "Epoch 994 Batch    0/5   train_loss = 0.079\n",
      "Epoch 996 Batch    0/5   train_loss = 0.078\n",
      "Epoch 998 Batch    0/5   train_loss = 0.078\n",
      "Model Trained and Saved\n"
     ]
    }
   ],
   "source": [
    "\"\"\"\n",
    "DON'T MODIFY ANYTHING IN THIS CELL\n",
    "\"\"\"\n",
    "batches = get_batches(int_text, batch_size, seq_length)\n",
    "\n",
    "with tf.Session(graph=train_graph) as sess:\n",
    "    sess.run(tf.global_variables_initializer())\n",
    "\n",
    "    for epoch_i in range(num_epochs):\n",
    "        state = sess.run(initial_state, {input_text: batches[0][0]})\n",
    "\n",
    "        for batch_i, (x, y) in enumerate(batches):\n",
    "            feed = {\n",
    "                input_text: x,\n",
    "                targets: y,\n",
    "                initial_state: state,\n",
    "                lr: learning_rate}\n",
    "            train_loss, state, _ = sess.run([cost, final_state, train_op], feed)\n",
    "\n",
    "            # Show every <show_every_n_batches> batches\n",
    "            if (epoch_i * len(batches) + batch_i) % show_every_n_batches == 0:\n",
    "                print('Epoch {:>3} Batch {:>4}/{}   train_loss = {:.3f}'.format(\n",
    "                    epoch_i,\n",
    "                    batch_i,\n",
    "                    len(batches),\n",
    "                    train_loss))\n",
    "\n",
    "    # Save Model\n",
    "    saver = tf.train.Saver()\n",
    "    saver.save(sess, save_dir)\n",
    "    print('Model Trained and Saved')"
   ]
  },
  {
   "cell_type": "markdown",
   "metadata": {
    "deletable": true,
    "editable": true
   },
   "source": [
    "## Save Parameters\n",
    "Save `seq_length` and `save_dir` for generating a new TV script."
   ]
  },
  {
   "cell_type": "code",
   "execution_count": 198,
   "metadata": {
    "collapsed": false,
    "deletable": true,
    "editable": true
   },
   "outputs": [],
   "source": [
    "\"\"\"\n",
    "DON'T MODIFY ANYTHING IN THIS CELL\n",
    "\"\"\"\n",
    "# Save parameters for checkpoint\n",
    "helper.save_params((seq_length, save_dir))"
   ]
  },
  {
   "cell_type": "markdown",
   "metadata": {
    "deletable": true,
    "editable": true
   },
   "source": [
    "# Checkpoint"
   ]
  },
  {
   "cell_type": "code",
   "execution_count": 272,
   "metadata": {
    "collapsed": false,
    "deletable": true,
    "editable": true
   },
   "outputs": [],
   "source": [
    "\"\"\"\n",
    "DON'T MODIFY ANYTHING IN THIS CELL\n",
    "\"\"\"\n",
    "import tensorflow as tf\n",
    "import numpy as np\n",
    "import helper\n",
    "import problem_unittests as tests\n",
    "\n",
    "_, vocab_to_int, int_to_vocab, token_dict = helper.load_preprocess()\n",
    "seq_length, load_dir = helper.load_params()"
   ]
  },
  {
   "cell_type": "markdown",
   "metadata": {
    "deletable": true,
    "editable": true
   },
   "source": [
    "## Implement Generate Functions\n",
    "### Get Tensors\n",
    "Get tensors from `loaded_graph` using the function [`get_tensor_by_name()`](https://www.tensorflow.org/api_docs/python/tf/Graph#get_tensor_by_name).  Get the tensors using the following names:\n",
    "- \"input:0\"\n",
    "- \"initial_state:0\"\n",
    "- \"final_state:0\"\n",
    "- \"probs:0\"\n",
    "\n",
    "Return the tensors in the following tuple `(InputTensor, InitialStateTensor, FinalStateTensor, ProbsTensor)` "
   ]
  },
  {
   "cell_type": "code",
   "execution_count": 273,
   "metadata": {
    "collapsed": false,
    "deletable": true,
    "editable": true
   },
   "outputs": [
    {
     "name": "stdout",
     "output_type": "stream",
     "text": [
      "Tests Passed\n"
     ]
    }
   ],
   "source": [
    "def get_tensors(loaded_graph):\n",
    "    \"\"\"\n",
    "    Get input, initial state, final state, and probabilities tensor from <loaded_graph>\n",
    "    :param loaded_graph: TensorFlow graph loaded from file\n",
    "    :return: Tuple (InputTensor, InitialStateTensor, FinalStateTensor, ProbsTensor)\n",
    "    \"\"\"\n",
    "    \n",
    "    t_input = loaded_graph.get_tensor_by_name('input:0')\n",
    "    t_initial_state = loaded_graph.get_tensor_by_name('initial_state:0')\n",
    "    t_final_state = loaded_graph.get_tensor_by_name('final_state:0')\n",
    "    t_probs = loaded_graph.get_tensor_by_name('probs:0')\n",
    "    return t_input, t_initial_state, t_final_state, t_probs\n",
    "\n",
    "\n",
    "\"\"\"\n",
    "DON'T MODIFY ANYTHING IN THIS CELL THAT IS BELOW THIS LINE\n",
    "\"\"\"\n",
    "tests.test_get_tensors(get_tensors)"
   ]
  },
  {
   "cell_type": "markdown",
   "metadata": {
    "deletable": true,
    "editable": true
   },
   "source": [
    "### Choose Word\n",
    "Implement the `pick_word()` function to select the next word using `probabilities`."
   ]
  },
  {
   "cell_type": "code",
   "execution_count": 274,
   "metadata": {
    "collapsed": false,
    "deletable": true,
    "editable": true
   },
   "outputs": [
    {
     "name": "stdout",
     "output_type": "stream",
     "text": [
      "Tests Passed\n"
     ]
    }
   ],
   "source": [
    "def pick_word(probabilities, int_to_vocab):\n",
    "    \"\"\"\n",
    "    Pick the next word in the generated text\n",
    "    :param probabilities: Probabilites of the next word\n",
    "    :param int_to_vocab: Dictionary of word ids as the keys and words as the values\n",
    "    :return: String of the predicted word\n",
    "    \"\"\"\n",
    "    \n",
    "    word = int_to_vocab[np.argmax(probabilities)]\n",
    "    \n",
    "    return word\n",
    "\n",
    "\n",
    "\"\"\"\n",
    "DON'T MODIFY ANYTHING IN THIS CELL THAT IS BELOW THIS LINE\n",
    "\"\"\"\n",
    "tests.test_pick_word(pick_word)"
   ]
  },
  {
   "cell_type": "markdown",
   "metadata": {
    "deletable": true,
    "editable": true
   },
   "source": [
    "## Generate TV Script\n",
    "This will generate the TV script for you.  Set `gen_length` to the length of TV script you want to generate."
   ]
  },
  {
   "cell_type": "code",
   "execution_count": 275,
   "metadata": {
    "collapsed": false,
    "deletable": true,
    "editable": true
   },
   "outputs": [
    {
     "name": "stdout",
     "output_type": "stream",
     "text": [
      "moe_szyslak: sizes good-looking slap detective_homer_simpson: takin' cesss planning parrot smoke parrot sizes frustrated choked slap gesture elmo's jerry duff's butterball officials sizes themselves gesture whiny irrelevant paintings continuing huddle tony butterball worst jerry neighborhood slap slap slap detective_homer_simpson: meatpies crooks sail slap slap slap sizes worst mr slap worst gesture parrot calendars bathed schnapps butterball stuck jerry dash my-y-y-y-y-y slap slap slap detective_homer_simpson: rain gesture bashir's jerry longest slap slap slap detective_homer_simpson: realize gesture parrot neighborhood jerry dad's poet presided scrutinizes presided rope neighborhood booth detective_homer_simpson: enjoyed gesture electronic sam: jerry dash my-y-y-y-y-y butterball protestantism dash my-y-y-y-y-y friendly dash happiness agreement slap protestantism muttering muttering sugar-free parrot is: abandon fudd scrutinizes detective_homer_simpson: itself duff's butterball drinker slap muttering shaky slap cuff giant face knockin' tv-station_announcer: that's slap detective_homer_simpson: celebrate rubbed 2nd_voice_on_transmitter: further rubbed usual laramie bunch slap detective_homer_simpson: itself gesture child jerry premise poet sarcastic slap detective_homer_simpson: meatpies skydiving scrutinizes scream renee: scrutinizes detective_homer_simpson: itself lenses butterball tapered smokin' 2nd_voice_on_transmitter: slap detective_homer_simpson: detective_homer_simpson: detective_homer_simpson: aims always butterball oh-so-sophisticated wine dislike sizes bury gang butterball renee: rope laramie themselves beings slap detective_homer_simpson: rain indicates butterball stunned slap detective_homer_simpson: rain arts butterball ratted 2nd_voice_on_transmitter: pepsi oh-so-sophisticated planning booth rope presided rope abandon worst\n"
     ]
    }
   ],
   "source": [
    "gen_length = 200\n",
    "# homer_simpson, moe_szyslak, or Barney_Gumble\n",
    "prime_word = 'moe_szyslak'\n",
    "\n",
    "\"\"\"\n",
    "DON'T MODIFY ANYTHING IN THIS CELL THAT IS BELOW THIS LINE\n",
    "\"\"\"\n",
    "loaded_graph = tf.Graph()\n",
    "with tf.Session(graph=loaded_graph) as sess:\n",
    "    # Load saved model\n",
    "    loader = tf.train.import_meta_graph(load_dir + '.meta')\n",
    "    loader.restore(sess, load_dir)\n",
    "\n",
    "    # Get Tensors from loaded model\n",
    "    input_text, initial_state, final_state, probs = get_tensors(loaded_graph)\n",
    "\n",
    "    # Sentences generation setup\n",
    "    gen_sentences = [prime_word + ':']\n",
    "    prev_state = sess.run(initial_state, {input_text: np.array([[1]])})\n",
    "\n",
    "    # Generate sentences\n",
    "    for n in range(gen_length):\n",
    "        # Dynamic Input\n",
    "        dyn_input = [[vocab_to_int[word] for word in gen_sentences[-seq_length:]]]\n",
    "        dyn_seq_length = len(dyn_input[0])\n",
    "\n",
    "        # Get Prediction\n",
    "        probabilities, prev_state = sess.run(\n",
    "            [probs, final_state],\n",
    "            {input_text: dyn_input, initial_state: prev_state})\n",
    "        \n",
    "        pred_word = pick_word(probabilities[dyn_seq_length-1], int_to_vocab)\n",
    "\n",
    "        gen_sentences.append(pred_word)\n",
    "    \n",
    "    # Remove tokens\n",
    "    tv_script = ' '.join(gen_sentences)\n",
    "    for key, token in token_dict.items():\n",
    "        ending = ' ' if key in ['\\n', '(', '\"'] else ''\n",
    "        tv_script = tv_script.replace(' ' + token.lower(), key)\n",
    "    tv_script = tv_script.replace('\\n ', '\\n')\n",
    "    tv_script = tv_script.replace('( ', '(')\n",
    "        \n",
    "    print(tv_script)"
   ]
  },
  {
   "cell_type": "markdown",
   "metadata": {
    "deletable": true,
    "editable": true
   },
   "source": [
    "# The TV Script is Nonsensical\n",
    "It's ok if the TV script doesn't make any sense.  We trained on less than a megabyte of text.  In order to get good results, you'll have to use a smaller vocabulary or get more data.  Luckly there's more data!  As we mentioned in the begging of this project, this is a subset of [another dataset](https://www.kaggle.com/wcukierski/the-simpsons-by-the-data).  We didn't have you train on all the data, because that would take too long.  However, you are free to train your neural network on all the data.  After you complete the project, of course.\n",
    "# Submitting This Project\n",
    "When submitting this project, make sure to run all the cells before saving the notebook. Save the notebook file as \"dlnd_tv_script_generation.ipynb\" and save it as a HTML file under \"File\" -> \"Download as\". Include the \"helper.py\" and \"problem_unittests.py\" files in your submission."
   ]
  }
 ],
 "metadata": {
  "hide_input": false,
  "kernelspec": {
   "display_name": "Python 3",
   "language": "python",
   "name": "python3"
  },
  "language_info": {
   "codemirror_mode": {
    "name": "ipython",
    "version": 3
   },
   "file_extension": ".py",
   "mimetype": "text/x-python",
   "name": "python",
   "nbconvert_exporter": "python",
   "pygments_lexer": "ipython3",
   "version": "3.5.2"
  },
  "toc": {
   "colors": {
    "hover_highlight": "#DAA520",
    "running_highlight": "#FF0000",
    "selected_highlight": "#FFD700"
   },
   "moveMenuLeft": true,
   "nav_menu": {
    "height": "511px",
    "width": "251px"
   },
   "navigate_menu": true,
   "number_sections": true,
   "sideBar": true,
   "threshold": 4,
   "toc_cell": false,
   "toc_section_display": "block",
   "toc_window_display": false
  },
  "widgets": {
   "state": {},
   "version": "1.1.2"
  }
 },
 "nbformat": 4,
 "nbformat_minor": 0
}
